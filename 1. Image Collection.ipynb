{
 "cells": [
  {
   "cell_type": "markdown",
   "metadata": {},
   "source": [
    "# 1. Import Dependencies"
   ]
  },
  {
   "cell_type": "code",
   "execution_count": 1,
   "metadata": {},
   "outputs": [
    {
     "name": "stdout",
     "output_type": "stream",
     "text": [
      "Collecting opencv-python"
     ]
    },
    {
     "name": "stderr",
     "output_type": "stream",
     "text": [
      "ERROR: pip's dependency resolver does not currently take into account all the packages that are installed. This behaviour is the source of the following dependency conflicts.\n",
      "tf-models-official 2.7.0 requires Cython, which is not installed.\n",
      "tf-models-official 2.7.0 requires gin-config, which is not installed.\n",
      "tf-models-official 2.7.0 requires google-api-python-client>=1.6.7, which is not installed.\n",
      "tf-models-official 2.7.0 requires kaggle>=1.3.9, which is not installed.\n",
      "tf-models-official 2.7.0 requires matplotlib, which is not installed.\n",
      "tf-models-official 2.7.0 requires oauth2client, which is not installed.\n",
      "tf-models-official 2.7.0 requires opencv-python-headless, which is not installed.\n",
      "tf-models-official 2.7.0 requires Pillow, which is not installed.\n",
      "tf-models-official 2.7.0 requires psutil>=5.4.3, which is not installed.\n",
      "tf-models-official 2.7.0 requires py-cpuinfo>=3.3.0, which is not installed.\n",
      "tf-models-official 2.7.0 requires pyyaml>=5.1, which is not installed.\n",
      "tf-models-official 2.7.0 requires sacrebleu, which is not installed.\n",
      "tf-models-official 2.7.0 requires sentencepiece, which is not installed.\n",
      "tf-models-official 2.7.0 requires seqeval, which is not installed.\n",
      "tf-models-official 2.7.0 requires tensorflow>=2.7.0, which is not installed.\n",
      "tf-models-official 2.7.0 requires tensorflow-addons, which is not installed.\n",
      "tf-models-official 2.7.0 requires tensorflow-datasets, which is not installed.\n",
      "tf-models-official 2.7.0 requires tensorflow-hub>=0.6.0, which is not installed.\n",
      "tf-models-official 2.7.0 requires tensorflow-model-optimization>=0.4.1, which is not installed.\n",
      "tf-models-official 2.7.0 requires tensorflow-text>=2.7.0, which is not installed.\n",
      "pandas 1.3.5 requires pytz>=2017.3, which is not installed.\n",
      "lvis 0.5.3 requires cycler>=0.10.0, which is not installed.\n",
      "lvis 0.5.3 requires Cython>=0.29.12, which is not installed.\n",
      "lvis 0.5.3 requires kiwisolver>=1.1.0, which is not installed.\n",
      "lvis 0.5.3 requires matplotlib>=3.1.1, which is not installed.\n",
      "lvis 0.5.3 requires pyparsing>=2.4.0, which is not installed.\n"
     ]
    },
    {
     "name": "stdout",
     "output_type": "stream",
     "text": [
      "\n",
      "  Downloading opencv_python-4.5.4.60-cp38-cp38-win_amd64.whl (35.1 MB)\n",
      "Collecting numpy>=1.17.3\n",
      "  Using cached numpy-1.21.5-cp38-cp38-win_amd64.whl (14.0 MB)\n",
      "Installing collected packages: numpy, opencv-python\n",
      "Successfully installed numpy-1.21.5 opencv-python-4.5.4.60\n"
     ]
    }
   ],
   "source": [
    "!pip install opencv-python"
   ]
  },
  {
   "cell_type": "code",
   "execution_count": 1,
   "metadata": {},
   "outputs": [],
   "source": [
    "# Import opencv\n",
    "import cv2 \n",
    "\n",
    "# Import uuid\n",
    "import uuid\n",
    "\n",
    "# Import Operating System\n",
    "import os\n",
    "\n",
    "# Import time\n",
    "import time"
   ]
  },
  {
   "cell_type": "markdown",
   "metadata": {},
   "source": [
    "# 2. Define Images to Collect"
   ]
  },
  {
   "cell_type": "code",
   "execution_count": 12,
   "metadata": {},
   "outputs": [],
   "source": [
    "labels = ['NotAkhil']\n",
    "number_imgs = 8"
   ]
  },
  {
   "cell_type": "markdown",
   "metadata": {},
   "source": [
    "# 3. Setup Folders "
   ]
  },
  {
   "cell_type": "code",
   "execution_count": 13,
   "metadata": {},
   "outputs": [],
   "source": [
    "IMAGES_PATH = os.path.join('Tensorflow', 'workspace', 'images', 'collectedimages')"
   ]
  },
  {
   "cell_type": "code",
   "execution_count": 14,
   "metadata": {},
   "outputs": [],
   "source": [
    "if not os.path.exists(IMAGES_PATH):\n",
    "    if os.name == 'posix':\n",
    "        !mkdir -p {IMAGES_PATH}\n",
    "    if os.name == 'nt':\n",
    "         !mkdir {IMAGES_PATH}\n",
    "for label in labels:\n",
    "    path = os.path.join(IMAGES_PATH, label)\n",
    "    if not os.path.exists(path):\n",
    "        !mkdir {path}"
   ]
  },
  {
   "cell_type": "markdown",
   "metadata": {},
   "source": [
    "# 4. Capture Images"
   ]
  },
  {
   "cell_type": "code",
   "execution_count": 15,
   "metadata": {},
   "outputs": [
    {
     "name": "stdout",
     "output_type": "stream",
     "text": [
      "Collecting images for NotAkhil\n",
      "Collecting image 0\n",
      "Collecting image 1\n",
      "Collecting image 2\n",
      "Collecting image 3\n",
      "Collecting image 4\n",
      "Collecting image 5\n",
      "Collecting image 6\n",
      "Collecting image 7\n"
     ]
    }
   ],
   "source": [
    "for label in labels:\n",
    "    cap = cv2.VideoCapture(0)\n",
    "    print('Collecting images for {}'.format(label))\n",
    "    time.sleep(8)\n",
    "    for imgnum in range(number_imgs):\n",
    "        print('Collecting image {}'.format(imgnum))\n",
    "        ret, frame = cap.read()\n",
    "        imgname = os.path.join(IMAGES_PATH,label,label+'.'+'{}.jpg'.format(str(uuid.uuid1())))\n",
    "        cv2.imwrite(imgname, frame)\n",
    "        cv2.imshow('frame', frame)\n",
    "        time.sleep(2)\n",
    "\n",
    "        if cv2.waitKey(1) & 0xFF == ord('q'):\n",
    "            break\n",
    "cap.release()\n",
    "cv2.destroyAllWindows()"
   ]
  },
  {
   "cell_type": "markdown",
   "metadata": {},
   "source": [
    "# 5. Image Labelling"
   ]
  },
  {
   "cell_type": "code",
   "execution_count": 8,
   "metadata": {},
   "outputs": [
    {
     "name": "stdout",
     "output_type": "stream",
     "text": [
      "Collecting pyqt5\n",
      "  Downloading PyQt5-5.15.6-cp36-abi3-win_amd64.whl (6.7 MB)\n",
      "Collecting lxml\n",
      "  Downloading lxml-4.7.1-cp38-cp38-win_amd64.whl (3.7 MB)\n",
      "Collecting PyQt5-sip<13,>=12.8\n",
      "  Downloading PyQt5_sip-12.9.0-cp38-cp38-win_amd64.whl (63 kB)\n",
      "Collecting PyQt5-Qt5>=5.15.2\n",
      "  Downloading PyQt5_Qt5-5.15.2-py3-none-win_amd64.whl (50.1 MB)\n",
      "Installing collected packages: PyQt5-sip, PyQt5-Qt5, pyqt5, lxml\n",
      "Successfully installed PyQt5-Qt5-5.15.2 PyQt5-sip-12.9.0 lxml-4.7.1 pyqt5-5.15.6\n"
     ]
    },
    {
     "name": "stderr",
     "output_type": "stream",
     "text": [
      "ERROR: pip's dependency resolver does not currently take into account all the packages that are installed. This behaviour is the source of the following dependency conflicts.\n",
      "object-detection 0.1 requires apache-beam, which is not installed.\n",
      "object-detection 0.1 requires avro-python3, which is not installed.\n",
      "object-detection 0.1 requires contextlib2, which is not installed.\n",
      "object-detection 0.1 requires Cython, which is not installed.\n",
      "object-detection 0.1 requires matplotlib, which is not installed.\n",
      "object-detection 0.1 requires pillow, which is not installed.\n"
     ]
    }
   ],
   "source": [
    "!pip install --upgrade pyqt5 lxml"
   ]
  },
  {
   "cell_type": "code",
   "execution_count": 10,
   "metadata": {},
   "outputs": [],
   "source": [
    "LABELIMG_PATH = os.path.join('Tensorflow', 'labelimg')"
   ]
  },
  {
   "cell_type": "code",
   "execution_count": 10,
   "metadata": {},
   "outputs": [
    {
     "name": "stderr",
     "output_type": "stream",
     "text": [
      "Cloning into 'Tensorflow\\labelimg'...\n"
     ]
    }
   ],
   "source": [
    "if not os.path.exists(LABELIMG_PATH):\n",
    "    !mkdir {LABELIMG_PATH}\n",
    "    !git clone https://github.com/tzutalin/labelImg {LABELIMG_PATH}"
   ]
  },
  {
   "cell_type": "code",
   "execution_count": 11,
   "metadata": {},
   "outputs": [],
   "source": [
    "if os.name == 'posix':\n",
    "    !make qt5py3\n",
    "if os.name =='nt':\n",
    "    !cd {LABELIMG_PATH} && pyrcc5 -o libs/resources.py resources.qrc"
   ]
  },
  {
   "cell_type": "code",
   "execution_count": 16,
   "metadata": {
    "scrolled": true
   },
   "outputs": [
    {
     "name": "stdout",
     "output_type": "stream",
     "text": [
      "Image:D:\\Projects\\tensorflowObjectDetection\\TFODCourse\\Tensorflow\\workspace\\images\\collectedimages\\NotAkhil\\NotAkhil.8bf24032-6b09-11ec-8ce4-dc215cb18ee1.jpg -> Annotation:D:/Projects/tensorflowObjectDetection/TFODCourse/Tensorflow/workspace/images/collectedimages/NotAkhil\\NotAkhil.8bf24032-6b09-11ec-8ce4-dc215cb18ee1.xml\n",
      "Image:D:\\Projects\\tensorflowObjectDetection\\TFODCourse\\Tensorflow\\workspace\\images\\collectedimages\\NotAkhil\\NotAkhil.8abd7d73-6b09-11ec-87d5-dc215cb18ee1.jpg -> Annotation:D:/Projects/tensorflowObjectDetection/TFODCourse/Tensorflow/workspace/images/collectedimages/NotAkhil\\NotAkhil.8abd7d73-6b09-11ec-87d5-dc215cb18ee1.xml\n",
      "Image:D:\\Projects\\tensorflowObjectDetection\\TFODCourse\\Tensorflow\\workspace\\images\\collectedimages\\NotAkhil\\NotAkhil.8d25da0d-6b09-11ec-b302-dc215cb18ee1.jpg -> Annotation:D:/Projects/tensorflowObjectDetection/TFODCourse/Tensorflow/workspace/images/collectedimages/NotAkhil\\NotAkhil.8d25da0d-6b09-11ec-b302-dc215cb18ee1.xml\n",
      "Image:D:\\Projects\\tensorflowObjectDetection\\TFODCourse\\Tensorflow\\workspace\\images\\collectedimages\\NotAkhil\\NotAkhil.8e5bd8d0-6b09-11ec-a886-dc215cb18ee1.jpg -> Annotation:D:/Projects/tensorflowObjectDetection/TFODCourse/Tensorflow/workspace/images/collectedimages/NotAkhil\\NotAkhil.8e5bd8d0-6b09-11ec-a886-dc215cb18ee1.xml\n",
      "Image:D:\\Projects\\tensorflowObjectDetection\\TFODCourse\\Tensorflow\\workspace\\images\\collectedimages\\NotAkhil\\NotAkhil.8f8fd31b-6b09-11ec-b36f-dc215cb18ee1.jpg -> Annotation:D:/Projects/tensorflowObjectDetection/TFODCourse/Tensorflow/workspace/images/collectedimages/NotAkhil\\NotAkhil.8f8fd31b-6b09-11ec-b36f-dc215cb18ee1.xml\n",
      "Image:D:\\Projects\\tensorflowObjectDetection\\TFODCourse\\Tensorflow\\workspace\\images\\collectedimages\\NotAkhil\\NotAkhil.90c3639a-6b09-11ec-8fcc-dc215cb18ee1.jpg -> Annotation:D:/Projects/tensorflowObjectDetection/TFODCourse/Tensorflow/workspace/images/collectedimages/NotAkhil\\NotAkhil.90c3639a-6b09-11ec-8fcc-dc215cb18ee1.xml\n",
      "Image:D:\\Projects\\tensorflowObjectDetection\\TFODCourse\\Tensorflow\\workspace\\images\\collectedimages\\NotAkhil\\NotAkhil.91f90c5d-6b09-11ec-b40f-dc215cb18ee1.jpg -> Annotation:D:/Projects/tensorflowObjectDetection/TFODCourse/Tensorflow/workspace/images/collectedimages/NotAkhil\\NotAkhil.91f90c5d-6b09-11ec-b40f-dc215cb18ee1.xml\n",
      "Image:D:\\Projects\\tensorflowObjectDetection\\TFODCourse\\Tensorflow\\workspace\\images\\collectedimages\\NotAkhil\\NotAkhil.89869545-6b09-11ec-bae5-dc215cb18ee1.jpg -> Annotation:D:/Projects/tensorflowObjectDetection/TFODCourse/Tensorflow/workspace/images/collectedimages/NotAkhil\\NotAkhil.89869545-6b09-11ec-bae5-dc215cb18ee1.xml\n"
     ]
    }
   ],
   "source": [
    "!cd {LABELIMG_PATH} && python labelImg.py"
   ]
  },
  {
   "cell_type": "markdown",
   "metadata": {},
   "source": [
    "# 6. Move them into a Training and Testing Partition"
   ]
  },
  {
   "cell_type": "markdown",
   "metadata": {},
   "source": [
    "# OPTIONAL - 7. Compress them for Colab Training"
   ]
  },
  {
   "cell_type": "code",
   "execution_count": 20,
   "metadata": {},
   "outputs": [],
   "source": [
    "TRAIN_PATH = os.path.join('Tensorflow', 'workspace', 'images', 'train')\n",
    "TEST_PATH = os.path.join('Tensorflow', 'workspace', 'images', 'test')\n",
    "ARCHIVE_PATH = os.path.join('Tensorflow', 'workspace', 'images', 'archive.tar.gz')"
   ]
  },
  {
   "cell_type": "code",
   "execution_count": 21,
   "metadata": {},
   "outputs": [],
   "source": [
    "!tar -czf {ARCHIVE_PATH} {TRAIN_PATH} {TEST_PATH}"
   ]
  },
  {
   "cell_type": "code",
   "execution_count": null,
   "metadata": {},
   "outputs": [],
   "source": []
  }
 ],
 "metadata": {
  "kernelspec": {
   "display_name": "tfodj",
   "language": "python",
   "name": "tfodj"
  },
  "language_info": {
   "codemirror_mode": {
    "name": "ipython",
    "version": 3
   },
   "file_extension": ".py",
   "mimetype": "text/x-python",
   "name": "python",
   "nbconvert_exporter": "python",
   "pygments_lexer": "ipython3",
   "version": "3.8.8"
  }
 },
 "nbformat": 4,
 "nbformat_minor": 2
}
